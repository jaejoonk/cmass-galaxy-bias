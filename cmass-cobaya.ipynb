{
 "cells": [
  {
   "cell_type": "code",
   "execution_count": 1,
   "id": "54cc1654",
   "metadata": {},
   "outputs": [],
   "source": [
    "import camb\n",
    "from camb import model\n",
    "\n",
    "import numpy as np\n",
    "import matplotlib.pyplot as plt\n",
    "import scipy.stats as stats\n",
    "from scipy.stats import chi2, binned_statistic\n",
    "\n",
    "import cobaya"
   ]
  },
  {
   "cell_type": "code",
   "execution_count": 2,
   "id": "54d79407",
   "metadata": {},
   "outputs": [],
   "source": [
    "zs, dndz = np.loadtxt(\"galaxy_DR12v5_CMASS_zs_dndz.txt\", unpack=True)"
   ]
  },
  {
   "cell_type": "code",
   "execution_count": 3,
   "id": "108eb43e",
   "metadata": {},
   "outputs": [],
   "source": [
    "zs_cmass = zs[np.logical_and(zs >= 0.4, zs <= 0.8)]\n",
    "dndz_cmass = dndz[np.logical_and(zs >= 0.4, zs <= 0.8)]"
   ]
  },
  {
   "cell_type": "code",
   "execution_count": 6,
   "id": "43e4a47a",
   "metadata": {},
   "outputs": [],
   "source": [
    "NSIMS = 400\n",
    "cov = np.loadtxt(\"cmass-sim-covariance-400-nohartlap.txt\")\n",
    "ells, bps = np.loadtxt(\"cmass_clgg_bandpowers.txt\", unpack=True)\n",
    "#ells, bps_old = np.loadtxt(\"cmass_clgg_bandpowers_old.txt\", unpack=True)"
   ]
  },
  {
   "cell_type": "code",
   "execution_count": 93,
   "id": "fa73f46f",
   "metadata": {},
   "outputs": [],
   "source": [
    "cov_sim = np.diag(np.loadtxt(\"cmass-theory-covariance-diag.txt\"))"
   ]
  },
  {
   "cell_type": "code",
   "execution_count": 8,
   "id": "4375573e",
   "metadata": {},
   "outputs": [],
   "source": [
    "ell_edges = (ells - 0.5) - 16"
   ]
  },
  {
   "cell_type": "code",
   "execution_count": 32,
   "id": "112e9eef",
   "metadata": {},
   "outputs": [],
   "source": [
    "LMIN = 20\n",
    "LMAX = 320\n",
    "\n",
    "LMIN_INDEX = np.where(ells == ells[ells > LMIN][0])[0][0]\n",
    "LMAX_INDEX = np.where(ells == ells[ells < LMAX][-1])[0][0] + 1"
   ]
  },
  {
   "cell_type": "code",
   "execution_count": 94,
   "id": "33754c8d",
   "metadata": {},
   "outputs": [
    {
     "name": "stdout",
     "output_type": "stream",
     "text": [
      "[ 49.5  81.5 113.5 145.5 177.5 209.5 241.5 273.5 305.5]\n",
      "[ 33.  65.  97. 129. 161. 193. 225. 257. 289. 321.]\n"
     ]
    }
   ],
   "source": [
    "#print(ells[np.logical_and(ells > 75, ells < 600)])\n",
    "print(ells[LMIN_INDEX:LMAX_INDEX])\n",
    "\n",
    "ells_analysis = ells[LMIN_INDEX:LMAX_INDEX]\n",
    "bps_analysis = bps[LMIN_INDEX:LMAX_INDEX]\n",
    "cov_analysis = cov_sim[LMIN_INDEX:LMAX_INDEX,LMIN_INDEX:LMAX_INDEX]\n",
    "ell_edges_analysis = ell_edges[LMIN_INDEX:LMAX_INDEX+1]\n",
    "print(ell_edges_analysis)"
   ]
  },
  {
   "cell_type": "code",
   "execution_count": 111,
   "id": "0e88b65a",
   "metadata": {},
   "outputs": [],
   "source": [
    "pars.SourceWindows = [\n",
    "        GaussianSourceWindow(redshift=dndz_mu, source_type='counts', bias=1.62206454,\n",
    "                             sigma=0.1, dlog10Ndm=0.0)\n",
    "]\n",
    "\n",
    "results = camb.get_results(pars)\n",
    "cls = results.get_source_cls_dict()\n",
    "camb_ells = np.arange(2, CAMB_LMAX)\n",
    "camb_cls_one= 2*np.pi*cls['W1xW1'][2:CAMB_LMAX] / (camb_ells*(camb_ells+1))"
   ]
  },
  {
   "cell_type": "code",
   "execution_count": 112,
   "id": "4879ac38",
   "metadata": {},
   "outputs": [],
   "source": [
    "pars.SourceWindows = [\n",
    "        GaussianSourceWindow(redshift=dndz_mu, source_type='counts', bias=1.62206454,\n",
    "                             sigma=0.05, dlog10Ndm=0.0)\n",
    "]\n",
    "\n",
    "results = camb.get_results(pars)\n",
    "cls = results.get_source_cls_dict()\n",
    "camb_ells = np.arange(2, CAMB_LMAX)\n",
    "camb_cls_two= 2*np.pi*cls['W1xW1'][2:CAMB_LMAX] / (camb_ells*(camb_ells+1))"
   ]
  },
  {
   "cell_type": "code",
   "execution_count": 113,
   "id": "46c4c012",
   "metadata": {},
   "outputs": [],
   "source": [
    "pars.SourceWindows = [\n",
    "        GaussianSourceWindow(redshift=dndz_mu, source_type='counts', bias=1.62206454,\n",
    "                             sigma=0.01, dlog10Ndm=0.0)\n",
    "]\n",
    "\n",
    "results = camb.get_results(pars)\n",
    "cls = results.get_source_cls_dict()\n",
    "camb_ells = np.arange(2, CAMB_LMAX)\n",
    "camb_cls_three= 2*np.pi*cls['W1xW1'][2:CAMB_LMAX] / (camb_ells*(camb_ells+1))"
   ]
  },
  {
   "cell_type": "code",
   "execution_count": 120,
   "id": "a1d81e95",
   "metadata": {},
   "outputs": [],
   "source": [
    "pars.SourceWindows = [\n",
    "        GaussianSourceWindow(redshift=dndz_mu, source_type='counts', bias=1.62206454,\n",
    "                             sigma=0.02, dlog10Ndm=0.0)\n",
    "]\n",
    "\n",
    "results = camb.get_results(pars)\n",
    "cls = results.get_source_cls_dict()\n",
    "camb_ells = np.arange(2, CAMB_LMAX)\n",
    "camb_cls_four= 2*np.pi*cls['W1xW1'][2:CAMB_LMAX] / (camb_ells*(camb_ells+1))"
   ]
  },
  {
   "cell_type": "code",
   "execution_count": 146,
   "id": "c82e177e",
   "metadata": {},
   "outputs": [
    {
     "data": {
      "text/plain": [
       "<matplotlib.legend.Legend at 0x2b478b051a50>"
      ]
     },
     "execution_count": 146,
     "metadata": {},
     "output_type": "execute_result"
    },
    {
     "data": {
      "image/png": "[encoded data removed]",
      "text/plain": [
       "<Figure size 432x288 with 1 Axes>"
      ]
     },
     "metadata": {
      "needs_background": "light"
     },
     "output_type": "display_data"
    }
   ],
   "source": [
    "plt.xlim(LMIN, 800)\n",
    "plt.ylim(2e-4, 2e-2)\n",
    "\n",
    "plt.xlabel(r\"$\\ell$\", fontsize=24)\n",
    "plt.ylabel(r\"$\\ell \\, C_\\ell^{gg}$\", fontsize=24)\n",
    "plt.xticks(fontsize=16)\n",
    "plt.yticks(fontsize=20)\n",
    "plt.title(r\"Fixed $b$ CAMB predictions\", fontsize=16)\n",
    "plt.semilogy(camb_ells, camb_ells * camb_cls_one, label=\"sigma = 0.1\")\n",
    "plt.semilogy(camb_ells, camb_ells * camb_cls_two, label=\"sigma = 0.05\")\n",
    "plt.semilogy(camb_ells, camb_ells * camb_cls_four, label=\"sigma = 0.02\")\n",
    "plt.semilogy(camb_ells, camb_ells * camb_cls_three, label=\"sigma = 0.01\")\n",
    "plt.legend(prop={'size': 14})"
   ]
  },
  {
   "cell_type": "code",
   "execution_count": 105,
   "id": "7892114a",
   "metadata": {
    "scrolled": true
   },
   "outputs": [
    {
     "data": {
      "text/plain": [
       "<matplotlib.legend.Legend at 0x2b46f0b4ac10>"
      ]
     },
     "execution_count": 105,
     "metadata": {},
     "output_type": "execute_result"
    },
    {
     "data": {
      "image/png": "[encoded data removed]",
      "text/plain": [
       "<Figure size 432x288 with 1 Axes>"
      ]
     },
     "metadata": {
      "needs_background": "light"
     },
     "output_type": "display_data"
    }
   ],
   "source": [
    "plt.xlim(LMIN, LMAX)\n",
    "plt.ylim(1.0, 2.0)\n",
    "\n",
    "plt.xlabel(r\"$\\ell$\", fontsize=24)\n",
    "plt.ylabel(r\"$10^3 \\times \\ell \\, C_\\ell^{gg}$\", fontsize=20)\n",
    "plt.xticks(fontsize=20)\n",
    "plt.yticks(fontsize=20)\n",
    "plt.plot(camb_ells, 1e3 * camb_ells * camb_cls, '--', color='grey', label=\"CAMB best-fit\")\n",
    "plt.errorbar(ells_analysis, 1e3 * ells_analysis * bps_analysis, 1e3 * ells_analysis * np.sqrt(np.diag(cov_analysis)),\n",
    "             fmt='o', capsize=6, label=\"CMASS\")\n",
    "plt.legend(prop={'size': 12})"
   ]
  },
  {
   "cell_type": "code",
   "execution_count": 92,
   "id": "6b4f08c3",
   "metadata": {},
   "outputs": [
    {
     "data": {
      "text/plain": [
       "array([7.19274719e-05, 6.55898215e-07, 1.37016769e-07, 2.78764699e-07,\n",
       "       2.40475543e-07, 2.26887479e-07, 2.00767783e-07, 1.91077741e-07,\n",
       "       1.69678496e-07])"
      ]
     },
     "execution_count": 92,
     "metadata": {},
     "output_type": "execute_result"
    }
   ],
   "source": [
    " np.sqrt(np.diag(cov_analysis))"
   ]
  },
  {
   "cell_type": "code",
   "execution_count": 49,
   "id": "c38b136c",
   "metadata": {},
   "outputs": [],
   "source": [
    "#Get angular power spectrum for galaxy number counts and lensing\n",
    "from camb.sources import GaussianSourceWindow, SplinedSourceWindow\n",
    "\n",
    "CAMB_LMAX = 2000\n",
    "pars = camb.CAMBparams()\n",
    "pars.set_cosmology(H0=67.4, omch2=0.120, ombh2=0.0224, tau=0.054)\n",
    "pars.InitPower.set_params(As=2.101e-9, ns=0.965)\n",
    "pars.set_for_lmax(lmax=CAMB_LMAX, lens_potential_accuracy=1)\n",
    "pars.Want_CMB = False \n",
    "pars.NonLinear = model.NonLinear_both\n",
    "\n",
    "corrected_inv_cov = np.linalg.inv(cov_analysis)"
   ]
  },
  {
   "cell_type": "code",
   "execution_count": 52,
   "id": "fb025347",
   "metadata": {},
   "outputs": [],
   "source": [
    "dndz_mu, dndz_sigma = 0.522474914602305, 0.05040391263685186\n",
    "\n",
    "def lnlike_b(b, pars=pars):\n",
    "    pars.SourceWindows = [\n",
    "        GaussianSourceWindow(redshift=dndz_mu, source_type='counts', bias=b,\n",
    "                             sigma=dndz_sigma, dlog10Ndm=0.0)\n",
    "        #SplinedSourceWindow(bias=b, dlog10Ndm=0.0, z=zs_cmass, W=dndz_cmass)\n",
    "    ]\n",
    "\n",
    "    results = camb.get_results(pars)\n",
    "    cls = results.get_source_cls_dict()\n",
    "    \n",
    "    camb_ells = np.arange(2, CAMB_LMAX)\n",
    "    binned_theory = binned_statistic(camb_ells, 2*np.pi*cls['W1xW1'][2:CAMB_LMAX] / (camb_ells*(camb_ells+1)),\n",
    "                                     bins=ell_edges_analysis, statistic=np.mean)[0] \n",
    "    \n",
    "    residual = bps_analysis - binned_theory\n",
    "    \n",
    "    return -0.5*(np.dot(residual, np.dot(corrected_inv_cov, residual)))\n",
    "\n",
    "cobaya_info = {\n",
    "    \"likelihood\": {\n",
    "        \"external\": lnlike_b},\n",
    "    \n",
    "    \"params\": dict([\n",
    "        (\"b\", {\n",
    "            \"prior\": {\"min\": 0.1, \"max\": 5},\n",
    "            \"latex\": r\"b\"}),\n",
    "           ]),\n",
    "    \"sampler\": {\n",
    "        \"mcmc\": {'max_tries':10000}\n",
    "    }}"
   ]
  },
  {
   "cell_type": "code",
   "execution_count": 53,
   "id": "a875bba3",
   "metadata": {},
   "outputs": [
    {
     "name": "stdout",
     "output_type": "stream",
     "text": [
      "[external] Initialized external likelihood.\n",
      "[mcmc] Getting initial point... (this may take a few seconds)\n",
      "[prior] Reference values or pdfs for some parameters were not provided. Sampling from the prior instead for those parameters.\n",
      "[model] Measuring speeds... (this may take a few seconds)\n",
      "[model] Setting measured speeds (per sec): {external: 2.03}\n",
      "[prior] *WARNING* Reference pdf not defined or improper for some parameters. Using prior's sigma instead for them.\n",
      "[mcmc] Covariance matrix not present. We will start learning the covariance of the proposal earlier: R-1 = 30 (would be 2 if all params loaded).\n",
      "[mcmc] Initial point: b:2.076189\n",
      "[mcmc] Sampling!\n",
      "[mcmc] Progress @ 2023-12-04 17:35:09 : 1 steps taken, and 0 accepted.\n",
      "[mcmc] Progress @ 2023-12-04 17:36:09 : 157 steps taken, and 3 accepted.\n",
      "[mcmc] Progress @ 2023-12-04 17:37:09 : 308 steps taken, and 5 accepted.\n",
      "[mcmc] Progress @ 2023-12-04 17:38:09 : 469 steps taken, and 5 accepted.\n",
      "[mcmc] Progress @ 2023-12-04 17:39:10 : 640 steps taken, and 5 accepted.\n",
      "[mcmc] Progress @ 2023-12-04 17:40:10 : 809 steps taken, and 5 accepted.\n",
      "[mcmc] Progress @ 2023-12-04 17:41:10 : 970 steps taken, and 6 accepted.\n",
      "[mcmc] Progress @ 2023-12-04 17:42:10 : 1126 steps taken, and 6 accepted.\n",
      "[mcmc] Progress @ 2023-12-04 17:43:10 : 1283 steps taken, and 6 accepted.\n",
      "[mcmc] Progress @ 2023-12-04 17:44:10 : 1449 steps taken, and 6 accepted.\n",
      "[mcmc] Progress @ 2023-12-04 17:45:11 : 1598 steps taken, and 7 accepted.\n",
      "[mcmc] Progress @ 2023-12-04 17:46:11 : 1754 steps taken, and 8 accepted.\n",
      "[mcmc] Progress @ 2023-12-04 17:47:11 : 1917 steps taken, and 8 accepted.\n",
      "[mcmc] Progress @ 2023-12-04 17:48:12 : 2077 steps taken, and 8 accepted.\n",
      "[mcmc] Progress @ 2023-12-04 17:49:12 : 2250 steps taken, and 9 accepted.\n",
      "[mcmc] Progress @ 2023-12-04 17:50:12 : 2412 steps taken, and 10 accepted.\n",
      "[mcmc] Progress @ 2023-12-04 17:51:13 : 2569 steps taken, and 12 accepted.\n",
      "[mcmc] Progress @ 2023-12-04 17:52:13 : 2717 steps taken, and 15 accepted.\n",
      "[mcmc] Progress @ 2023-12-04 17:53:13 : 2871 steps taken, and 16 accepted.\n",
      "[mcmc] Progress @ 2023-12-04 17:54:14 : 3026 steps taken, and 16 accepted.\n",
      "[mcmc] Progress @ 2023-12-04 17:55:14 : 3177 steps taken, and 17 accepted.\n",
      "[mcmc] Progress @ 2023-12-04 17:56:14 : 3335 steps taken, and 18 accepted.\n",
      "[mcmc] Progress @ 2023-12-04 17:57:15 : 3485 steps taken, and 18 accepted.\n",
      "[mcmc] Progress @ 2023-12-04 17:58:15 : 3644 steps taken, and 18 accepted.\n",
      "[mcmc] Progress @ 2023-12-04 17:59:15 : 3808 steps taken, and 20 accepted.\n",
      "[mcmc] Progress @ 2023-12-04 18:00:15 : 3959 steps taken, and 20 accepted.\n",
      "[mcmc] Progress @ 2023-12-04 18:01:16 : 4126 steps taken, and 21 accepted.\n",
      "[mcmc] Progress @ 2023-12-04 18:02:16 : 4282 steps taken, and 21 accepted.\n",
      "[mcmc] Progress @ 2023-12-04 18:03:16 : 4443 steps taken, and 22 accepted.\n",
      "[mcmc] Progress @ 2023-12-04 18:04:17 : 4608 steps taken, and 23 accepted.\n",
      "[mcmc] Progress @ 2023-12-04 18:05:17 : 4766 steps taken, and 24 accepted.\n",
      "[mcmc] Progress @ 2023-12-04 18:06:18 : 4929 steps taken, and 24 accepted.\n",
      "[mcmc] Progress @ 2023-12-04 18:07:18 : 5094 steps taken, and 25 accepted.\n",
      "[mcmc] Progress @ 2023-12-04 18:08:18 : 5249 steps taken, and 25 accepted.\n",
      "[mcmc] Progress @ 2023-12-04 18:09:18 : 5402 steps taken, and 26 accepted.\n",
      "[mcmc] Progress @ 2023-12-04 18:10:19 : 5562 steps taken, and 26 accepted.\n",
      "[mcmc] Progress @ 2023-12-04 18:11:19 : 5728 steps taken, and 29 accepted.\n",
      "[mcmc] Progress @ 2023-12-04 18:12:19 : 5870 steps taken, and 29 accepted.\n",
      "[mcmc] Progress @ 2023-12-04 18:13:19 : 6028 steps taken, and 31 accepted.\n",
      "[mcmc] Progress @ 2023-12-04 18:14:19 : 6181 steps taken, and 31 accepted.\n",
      "[mcmc] Progress @ 2023-12-04 18:15:19 : 6327 steps taken, and 33 accepted.\n",
      "[mcmc] Progress @ 2023-12-04 18:16:19 : 6476 steps taken, and 33 accepted.\n",
      "[mcmc] Progress @ 2023-12-04 18:17:19 : 6622 steps taken, and 33 accepted.\n",
      "[mcmc] Progress @ 2023-12-04 18:18:19 : 6773 steps taken, and 33 accepted.\n",
      "[mcmc] Progress @ 2023-12-04 18:19:19 : 6932 steps taken, and 33 accepted.\n",
      "[mcmc] Progress @ 2023-12-04 18:20:19 : 7096 steps taken, and 35 accepted.\n",
      "[mcmc] Progress @ 2023-12-04 18:21:20 : 7260 steps taken, and 36 accepted.\n",
      "[mcmc] Progress @ 2023-12-04 18:22:20 : 7414 steps taken, and 38 accepted.\n",
      "[mcmc] Progress @ 2023-12-04 18:23:20 : 7580 steps taken, and 39 accepted.\n",
      "[mcmc] Learn + convergence test @ 40 samples accepted.\n",
      "[mcmc]  - Acceptance rate: 0.005\n",
      "[mcmc]  - Convergence of means: R-1 = 0.052814 after 32 accepted steps\n",
      "[mcmc]  - Updated covariance matrix of proposal pdf.\n",
      "[mcmc] Learn + convergence test @ 80 samples accepted.\n",
      "[mcmc]  - Acceptance rate: 0.013\n",
      "[mcmc]  - Convergence of means: R-1 = 2.152324 after 64 accepted steps\n",
      "[mcmc]  - Updated covariance matrix of proposal pdf.\n",
      "[mcmc] Progress @ 2023-12-04 18:24:21 : 7715 steps taken, and 85 accepted.\n",
      "[mcmc] Learn + convergence test @ 120 samples accepted.\n",
      "[mcmc]  - Acceptance rate: 0.031\n",
      "[mcmc]  - Convergence of means: R-1 = 0.422849 after 96 accepted steps\n",
      "[mcmc]  - Updated covariance matrix of proposal pdf.\n",
      "[mcmc] Progress @ 2023-12-04 18:25:21 : 7837 steps taken, and 146 accepted.\n",
      "[mcmc] Learn + convergence test @ 160 samples accepted.\n",
      "[mcmc]  - Acceptance rate: 0.080\n",
      "[mcmc]  - Convergence of means: R-1 = 0.038666 after 128 accepted steps\n",
      "[mcmc]  - Updated covariance matrix of proposal pdf.\n",
      "[mcmc] Learn + convergence test @ 200 samples accepted.\n",
      "[mcmc]  - Acceptance rate: 0.489\n",
      "[mcmc]  - Convergence of means: R-1 = 0.156786 after 160 accepted steps\n",
      "[mcmc]  - Updated covariance matrix of proposal pdf.\n",
      "[mcmc] Progress @ 2023-12-04 18:26:21 : 7959 steps taken, and 203 accepted.\n",
      "[mcmc] Learn + convergence test @ 240 samples accepted.\n",
      "[mcmc]  - Acceptance rate: 0.472\n",
      "[mcmc]  - Convergence of means: R-1 = 0.150453 after 192 accepted steps\n",
      "[mcmc]  - Updated covariance matrix of proposal pdf.\n",
      "[mcmc] Progress @ 2023-12-04 18:27:21 : 8081 steps taken, and 251 accepted.\n",
      "[mcmc] Learn + convergence test @ 280 samples accepted.\n",
      "[mcmc]  - Acceptance rate: 0.468\n",
      "[mcmc]  - Convergence of means: R-1 = 0.069054 after 224 accepted steps\n",
      "[mcmc]  - Updated covariance matrix of proposal pdf.\n",
      "[mcmc] Progress @ 2023-12-04 18:28:21 : 8203 steps taken, and 314 accepted.\n",
      "[mcmc] Learn + convergence test @ 320 samples accepted.\n",
      "[mcmc]  - Acceptance rate: 0.465\n",
      "[mcmc]  - Convergence of means: R-1 = 0.028089 after 256 accepted steps\n",
      "[mcmc]  - Updated covariance matrix of proposal pdf.\n",
      "[mcmc] Progress @ 2023-12-04 18:29:21 : 8325 steps taken, and 359 accepted.\n",
      "[mcmc] Learn + convergence test @ 360 samples accepted.\n",
      "[mcmc]  - Acceptance rate: 0.446\n",
      "[mcmc]  - Convergence of means: R-1 = 0.015457 after 288 accepted steps\n",
      "[mcmc]  - Updated covariance matrix of proposal pdf.\n",
      "[mcmc] Learn + convergence test @ 400 samples accepted.\n",
      "[mcmc]  - Acceptance rate: 0.435\n",
      "[mcmc]  - Convergence of means: R-1 = 0.049831 after 320 accepted steps\n",
      "[mcmc]  - Updated covariance matrix of proposal pdf.\n",
      "[mcmc] Progress @ 2023-12-04 18:30:21 : 8447 steps taken, and 407 accepted.\n",
      "[mcmc] Learn + convergence test @ 440 samples accepted.\n",
      "[mcmc]  - Acceptance rate: 0.437\n",
      "[mcmc]  - Convergence of means: R-1 = 0.026596 after 352 accepted steps\n",
      "[mcmc]  - Updated covariance matrix of proposal pdf.\n",
      "[mcmc] Progress @ 2023-12-04 18:31:21 : 8569 steps taken, and 468 accepted.\n",
      "[mcmc] Learn + convergence test @ 480 samples accepted.\n",
      "[mcmc]  - Acceptance rate: 0.443\n",
      "[mcmc]  - Convergence of means: R-1 = 0.001094 after 384 accepted steps\n",
      "[mcmc]  - Updated covariance matrix of proposal pdf.\n",
      "[mcmc] Learn + convergence test @ 520 samples accepted.\n",
      "[mcmc]  - Acceptance rate: 0.451\n",
      "[mcmc]  - Convergence of means: R-1 = 0.003373 after 416 accepted steps\n",
      "[mcmc]  - Convergence of bounds: R-1 = 0.104367 after 520 accepted steps\n",
      "[mcmc] The run has converged!\n",
      "[mcmc] Sampling complete after 520 accepted steps.\n"
     ]
    }
   ],
   "source": [
    "updated_info_z, sampler_z = cobaya.run(cobaya_info)"
   ]
  },
  {
   "cell_type": "code",
   "execution_count": 54,
   "id": "90b11cce",
   "metadata": {},
   "outputs": [],
   "source": [
    "np.save(\"updated_info.npy\", updated_info_z)\n",
    "np.save(\"sampler_products.npy\", sampler_z.products())"
   ]
  },
  {
   "cell_type": "code",
   "execution_count": 55,
   "id": "582b23e8",
   "metadata": {},
   "outputs": [
    {
     "name": "stdout",
     "output_type": "stream",
     "text": [
      "[root] *WARNING* outlier fraction 0.06346153846153846 \n",
      "Mean:  [ 1.62206454 19.13095938 19.13095938]\n",
      "Covariance matrix: [[5.8280348e-05]]\n"
     ]
    },
    {
     "data": {
      "image/png": "[encoded data removed]",
      "text/plain": [
       "<Figure size 360x270 with 1 Axes>"
      ]
     },
     "metadata": {
      "needs_background": "light"
     },
     "output_type": "display_data"
    }
   ],
   "source": [
    "# Export the results to GetDist\n",
    "from getdist.mcsamples import MCSamplesFromCobaya\n",
    "\n",
    "gd_sample = MCSamplesFromCobaya(updated_info_z, sampler_z.products()[\"sample\"])\n",
    "# Analyze and plot\n",
    "mean = gd_sample.getMeans()\n",
    "covmat = gd_sample.getCovMat().matrix\n",
    "print(\"Mean: \", mean)\n",
    "print(\"Covariance matrix:\", covmat)\n",
    "\n",
    "%matplotlib inline\n",
    "import getdist.plots as gdplt\n",
    "gdplot = gdplt.get_subplot_plotter()\n",
    "g = gdplt.get_single_plotter(width_inch=5)\n",
    "g.plot_1d(gd_sample, \"b\", filled=True)"
   ]
  },
  {
   "cell_type": "code",
   "execution_count": 58,
   "id": "9760db4b",
   "metadata": {},
   "outputs": [
    {
     "data": {
      "text/plain": [
       "0.007634156665932394"
      ]
     },
     "execution_count": 58,
     "metadata": {},
     "output_type": "execute_result"
    }
   ],
   "source": [
    "np.sqrt(5.8280348e-5)"
   ]
  },
  {
   "cell_type": "code",
   "execution_count": 57,
   "id": "4db3b5f6",
   "metadata": {},
   "outputs": [
    {
     "name": "stdout",
     "output_type": "stream",
     "text": [
      "Cobaya best-fit amplitude:  1.6129 +-  0.0065\n"
     ]
    }
   ],
   "source": [
    "bs = sampler_z.products()['sample'].to_numpy()[:,2]\n",
    "# get rid of first ~30% of the samples as burn-in\n",
    "print(f\"Cobaya best-fit amplitude: {bs[-1] : 0.4f} +- {np.std(bs[int(0.3*len(bs)):]) : 0.4f}\")"
   ]
  }
 ],
 "metadata": {
  "kernelspec": {
   "display_name": "Python [conda env:.conda-myenv] *",
   "language": "python",
   "name": "conda-env-.conda-myenv-py"
  },
  "language_info": {
   "codemirror_mode": {
    "name": "ipython",
    "version": 3
   },
   "file_extension": ".py",
   "mimetype": "text/x-python",
   "name": "python",
   "nbconvert_exporter": "python",
   "pygments_lexer": "ipython3",
   "version": "3.7.16"
  }
 },
 "nbformat": 4,
 "nbformat_minor": 5
}
